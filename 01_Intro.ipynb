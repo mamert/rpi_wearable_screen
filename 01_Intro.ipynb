{
 "cells": [
  {
   "cell_type": "markdown",
   "metadata": {},
   "source": [
    "![add](nb_pics/pic_makieta01.jpg)"
   ]
  },
  {
   "cell_type": "markdown",
   "metadata": {},
   "source": [
    "## Smartglass!\n",
    "Lub coś podobnego. Nie jest to półprzepuszczalne lusterko, a mikroekran za soczewką.\n",
    "\n",
    "OK, to co widać na zdjęciu to dopiero **makieta** z tektury i przeziernik ze starego fotoaparatu, mockup tego co zbuduję. Ale dobrze przekazuje do czego dążę.\n"
   ]
  },
  {
   "cell_type": "markdown",
   "metadata": {},
   "source": [
    "## Dlaczego?\n",
    "Nie rozumiem pytania.\n",
    "Czy brakuje powodów by oglądać obraz z komputera bez celowego spoglądania na monitor lub telefon?\n",
    "\n",
    "Jeśli pytanie jest \"dlaczego nie kupię jakiegoś gotowego\":<br>\n",
    "Oferowany jest wielki wybór komercyjnych urządzeń, wideookulary, smartglass'e, gogle VR/AR...<br>\n",
    "Wszystkim czegoś brakuje.<br>\n",
    "Często są brzydkimi, ogromnymi klocami, z którymi wstyd pokazać się poza swoim pokojem.<br>\n",
    "Inne są astronomicznie drogie.<br>\n",
    "Wszystkie są ograniczone do tego co producent łaskawie pozwoli z nimi robić, gdy ten przewidział sport i telefon, to tyle będzie robić i nigdy nic więcej. Czasem da się na to zrobić \"apkę\" i dodać coś zbudowane z ubogiego zestawu klocków.\n",
    "\n",
    "Nie chcę ograniczeń, ani z góry decydować co będzie pokazywane.<br>\n",
    "Stąd: **Raspberry Pi**.<\n",
    "Wariant Zero jest MAŁY. Nie znam żadnego produktu który rozmiarem zbliżałby się do tego co demonstruje makieta:"
   ]
  },
  {
   "cell_type": "markdown",
   "metadata": {},
   "source": [
    "![add](nb_pics/pic_makieta02.jpg)"
   ]
  },
  {
   "cell_type": "markdown",
   "metadata": {},
   "source": [
    "## Koszt?\n",
    "**2014**? \\$350 i kilka miesięcy roboty by wszystko zepsuć.<br>\n",
    "**2020**? \\$100... i póki co wszystko OK :) Ale miesiące roboty nadal obowiązują."
   ]
  },
  {
   "cell_type": "markdown",
   "metadata": {},
   "source": [
    "## Checklista\n",
    "* okulary (na cośtrzeba to zamontować :) )\n",
    "* mikroekranik (szukaj w Chińskich ofertach \"display, fpv, viewfinder\"; od \\$50)\n",
    "* komputerek Raspberry Pi 0 W\n",
    "* karta MicroSD do RPi\n",
    "* kabelki\n",
    "* bateria\n",
    "* PCL (Polymorph) do zmontowania tego razem"
   ]
  }
 ],
 "metadata": {
  "kernelspec": {
   "display_name": "Python 3",
   "language": "python",
   "name": "python3"
  },
  "language_info": {
   "codemirror_mode": {
    "name": "ipython",
    "version": 3
   },
   "file_extension": ".py",
   "mimetype": "text/x-python",
   "name": "python",
   "nbconvert_exporter": "python",
   "pygments_lexer": "ipython3",
   "version": "3.7.6"
  }
 },
 "nbformat": 4,
 "nbformat_minor": 4
}
