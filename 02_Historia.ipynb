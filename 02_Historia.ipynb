{
 "cells": [
  {
   "cell_type": "markdown",
   "metadata": {},
   "source": [
    "## Pierwsze kroki"
   ]
  },
  {
   "cell_type": "markdown",
   "metadata": {},
   "source": [
    "Lata temu najbliższe temu co chcę, to były \"wideookulary\" - pary mikroekraników przed oczyma.<br>\n",
    "Pomysł więc był by zostawić jeden ekranik, okrojony ze zbędnych elementów.\n",
    "![szpej](nb_pics/pic_historia_szpej.jpg)"
   ]
  },
  {
   "cell_type": "markdown",
   "metadata": {},
   "source": [
    "Znalazłem \"myvu crystal 701\", optimum ceny i jakości, rozdzielczość prawdziwe 640x480, szok! ;)<br>\n",
    "Kupiłem z USA, przez urząd celny zębami zgrzytałem, przetestowałem i rozebrałem... **PO** wcześnieszej zabawie z dużo **tańszymi** wideookularami, które rozłożyłem, polutowałem, i stopniowo zmniejszałem do pożądanego kształtu... aż **zepsułem** pominąwszy kabelek który ukrywał opornik.\n",
    "\n",
    "Uboższy w portfelu ale bogatszy w doświadczeniu, zabrałem się za te droższe wideookulary.\n",
    "Efekt niestety taki sam: **spalona elektronika**."
   ]
  },
  {
   "cell_type": "markdown",
   "metadata": {},
   "source": [
    "## Pierwszy prototyp"
   ]
  },
  {
   "cell_type": "markdown",
   "metadata": {},
   "source": [
    "Przewijamy do **2019**: kupiłem **ekranik FPV do kontroli dronów**, i [wmontowałem w gogle ochronne](https://wiki.hs3.pl/projekty/nerf_turret#wideo-gogle).<br>\n",
    "![gogle](nb_pics/pic_turretgogs01.jpg)\n",
    "![gogle](nb_pics/pic_turretgogs02.jpg)\n",
    "![gogle](nb_pics/pic_turretgogs_scr01.jpg)\n",
    "\n",
    "Sukces!"
   ]
  },
  {
   "cell_type": "markdown",
   "metadata": {},
   "source": [
    "Miałem z tego podgląd do sterowanego joystickiem działka NERF!<br>\n",
    "[![NERF Turret](nb_pics/pic_nerf_01.jpg)](https://www.youtube.com/watch?v=krwHnsPP9dU \"NERF Turret\")"
   ]
  },
  {
   "cell_type": "markdown",
   "metadata": {},
   "source": [
    "Nawet odrobinę podobne do tego co chciałem.<br>\n",
    "Nadaje się do noszenia w warsztacie, i na larpie Old Town :) Ale nie na co dzień.<br>\n",
    "Ekraniki zniknęły ze sprzedaży bez śladu.<br>"
   ]
  },
  {
   "cell_type": "markdown",
   "metadata": {},
   "source": [
    "### Teraz"
   ]
  },
  {
   "cell_type": "markdown",
   "metadata": {},
   "source": [
    "W **2020** znalazłem inny mikroekranik, chyba z podglądu jakiegoś cyfrowego aparatu fotograficznego.<br>\n",
    "\n",
    "![mikroekranik](nb_pics/pic_microdisp_01.jpg)\n",
    "\n",
    "Trzykrotnie mniejszy od tego pierwszego, lepszy obraz (nie wiem jaka rozdzielczość, w podane nigdy nie wierzę), regulacja ostrości i jasności!"
   ]
  },
  {
   "cell_type": "markdown",
   "metadata": {},
   "source": [
    "I zaczynamy :)"
   ]
  }
 ],
 "metadata": {
  "kernelspec": {
   "display_name": "Python 3",
   "language": "python",
   "name": "python3"
  },
  "language_info": {
   "codemirror_mode": {
    "name": "ipython",
    "version": 3
   },
   "file_extension": ".py",
   "mimetype": "text/x-python",
   "name": "python",
   "nbconvert_exporter": "python",
   "pygments_lexer": "ipython3",
   "version": "3.7.6"
  }
 },
 "nbformat": 4,
 "nbformat_minor": 4
}
