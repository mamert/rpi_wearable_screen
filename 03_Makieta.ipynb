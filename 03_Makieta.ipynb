{
 "cells": [
  {
   "cell_type": "markdown",
   "metadata": {},
   "source": [
    "## Zbieramy części!"
   ]
  },
  {
   "cell_type": "markdown",
   "metadata": {},
   "source": [
    "Mamy więc ekranik:\n",
    "![mikroekranik](nb_pics/pic_microdisp_01.jpg)\n",
    "\n",
    "I, szcęśliwie, mamy też na co go nakładać:\n",
    "![ekularochawki](nb_pics/pic_trekz_bare_01.jpg)\n",
    "\n",
    "To moje okulary na astygmatyzm, złączone ze słuchawkami Trekz Titanium.<br>\n",
    "Jedyny sposób na wygodne noszenie ich razem,<br>\n",
    "i naturalny kandydat na noszenie budowanej elektroniki.\n",
    "\n",
    "A, i Malinka, oczywiście :)\n",
    "![rpi0w](nb_pics/pic_rpi0w_01.jpg)"
   ]
  },
  {
   "cell_type": "markdown",
   "metadata": {},
   "source": [
    "## Makieta"
   ]
  },
  {
   "cell_type": "markdown",
   "metadata": {},
   "source": [
    "Mając skompletowane części, nie chcę ich uszkodzić na etapie pomiarów.\n",
    "\n",
    "Buduję więc makietę z tektury:\n",
    "\n",
    "![makieta części 1](nb_pics/pic_makieta_parts01.jpg)\n",
    "\n",
    "Składam tak by dobrze mi leżało...\n",
    "\n",
    "![makieta 01](nb_pics/pic_makieta_off01.jpg)\n",
    "\n",
    "I mamy wór na złożenie prawdziwego sprzętu :)\n",
    "\n",
    "![makieta 02](nb_pics/pic_makieta_off02.jpg)\n"
   ]
  },
  {
   "cell_type": "markdown",
   "metadata": {},
   "source": [
    "Zarówno makieta, jak i przyszły produkt końcowy, są w kilka sekund **zdejmowalne** z okularów.<br>\n",
    "\n",
    "![makieta](nb_pics/pic_makieta_parts02.jpg)\n",
    "\n",
    "\n",
    "BTW, makietę zrobiłem dość ambitnie, z wizjera od taniego aparatu fotograficznego, by dawało wgląd na kąt widzenia ekranu przy oku :)\n",
    "\n",
    "Prawdziwy ekranik nie jest przejrzysty."
   ]
  }
 ],
 "metadata": {
  "kernelspec": {
   "display_name": "Python 3",
   "language": "python",
   "name": "python3"
  },
  "language_info": {
   "codemirror_mode": {
    "name": "ipython",
    "version": 3
   },
   "file_extension": ".py",
   "mimetype": "text/x-python",
   "name": "python",
   "nbconvert_exporter": "python",
   "pygments_lexer": "ipython3",
   "version": "3.7.6"
  }
 },
 "nbformat": 4,
 "nbformat_minor": 4
}
